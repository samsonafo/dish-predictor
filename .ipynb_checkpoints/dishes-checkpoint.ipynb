{
 "cells": [
  {
   "cell_type": "code",
   "execution_count": 26,
   "metadata": {},
   "outputs": [
    {
     "name": "stdout",
     "output_type": "stream",
     "text": [
      "Found 336 images belonging to 6 classes.\n",
      "Found 60 images belonging to 6 classes.\n"
     ]
    }
   ],
   "source": [
    "from keras.preprocessing.image import ImageDataGenerator\n",
    "\n",
    "\n",
    "train_datagen = ImageDataGenerator(rescale=1./255,shear_range=0.2,zoom_range=0.2,horizontal_flip=True)\n",
    "test_datagen = ImageDataGenerator(rescale=1./255)\n",
    "\n",
    "training_set = train_datagen.flow_from_directory('/Users/admin/Downloads/dataset/train',target_size=(170,140),\n",
    "                                                batch_size=32,class_mode='binary')\n",
    "test_set = train_datagen.flow_from_directory('/Users/admin/Downloads/dataset/test',target_size=(170,140),\n",
    "                                                batch_size=32,class_mode='binary')"
   ]
  },
  {
   "cell_type": "code",
   "execution_count": 27,
   "metadata": {},
   "outputs": [
    {
     "name": "stderr",
     "output_type": "stream",
     "text": [
      "/Users/admin/anaconda3/lib/python3.7/site-packages/ipykernel_launcher.py:9: UserWarning: Update your `Conv2D` call to the Keras 2 API: `Conv2D(32, (3, 3), input_shape=(170, 140,..., activation=\"relu\")`\n",
      "  if __name__ == '__main__':\n"
     ]
    },
    {
     "name": "stdout",
     "output_type": "stream",
     "text": [
      "Epoch 1/3\n",
      "800/800 [==============================] - 377s 471ms/step - loss: 9.8484 - acc: 0.3860 - val_loss: 10.7454 - val_acc: 0.3333\n",
      "Epoch 2/3\n",
      "800/800 [==============================] - 474s 593ms/step - loss: 9.5109 - acc: 0.4099 - val_loss: 10.7454 - val_acc: 0.3333\n",
      "Epoch 3/3\n",
      "800/800 [==============================] - 508s 635ms/step - loss: 9.5185 - acc: 0.4095 - val_loss: 10.7454 - val_acc: 0.3333\n"
     ]
    },
    {
     "data": {
      "text/plain": [
       "<keras.callbacks.History at 0x62bab9940>"
      ]
     },
     "execution_count": 27,
     "metadata": {},
     "output_type": "execute_result"
    }
   ],
   "source": [
    "import tensorflow as tf\n",
    "from keras.models import Sequential\n",
    "from keras.layers import Flatten\n",
    "from keras.layers import Dense\n",
    "from keras.layers import Conv2D\n",
    "from keras.layers import MaxPool2D\n",
    "\n",
    "mode = Sequential()\n",
    "mode.add(Conv2D(32,3,3, input_shape=(170,140,3), activation = 'relu'))  #first (input) Layer\n",
    "mode.add(MaxPool2D(pool_size=(2,2)))\n",
    "mode.add(Flatten())\n",
    "\n",
    "mode.add(Dense(128,activation='relu')) #fourth hidden layer\n",
    "\n",
    "mode.add(Dense(7,activation='softmax'))\n",
    "mode.compile(optimizer='adam', loss='sparse_categorical_crossentropy', metrics=['accuracy'])\n",
    "\n",
    "mode.fit_generator(training_set,epochs=3,validation_data=test_set,steps_per_epoch=800,validation_steps=80)"
   ]
  },
  {
   "cell_type": "code",
   "execution_count": 9,
   "metadata": {},
   "outputs": [
    {
     "data": {
      "text/plain": [
       "<keras_preprocessing.image.directory_iterator.DirectoryIterator at 0x62a85c048>"
      ]
     },
     "execution_count": 9,
     "metadata": {},
     "output_type": "execute_result"
    }
   ],
   "source": [
    "training_set"
   ]
  },
  {
   "cell_type": "code",
   "execution_count": 10,
   "metadata": {},
   "outputs": [
    {
     "data": {
      "text/plain": [
       "<keras_preprocessing.image.directory_iterator.DirectoryIterator at 0x62a843f60>"
      ]
     },
     "execution_count": 10,
     "metadata": {},
     "output_type": "execute_result"
    }
   ],
   "source": [
    "test_set"
   ]
  },
  {
   "cell_type": "code",
   "execution_count": 28,
   "metadata": {},
   "outputs": [],
   "source": [
    "predictions = mode.predict(test_set)"
   ]
  },
  {
   "cell_type": "code",
   "execution_count": 29,
   "metadata": {},
   "outputs": [
    {
     "data": {
      "text/plain": [
       "array([[1.21591156e-18, 4.46553038e-29, 1.00000000e+00, 1.38429469e-24,\n",
       "        5.58807425e-37, 2.71615892e-36, 0.00000000e+00],\n",
       "       [1.07450182e-06, 2.27162759e-26, 9.99998927e-01, 2.13549948e-22,\n",
       "        4.23521811e-37, 1.66695102e-31, 0.00000000e+00],\n",
       "       [1.37774145e-31, 0.00000000e+00, 1.00000000e+00, 8.73515204e-36,\n",
       "        0.00000000e+00, 0.00000000e+00, 0.00000000e+00],\n",
       "       [1.00000000e+00, 1.11767287e-36, 1.65332316e-25, 3.02729830e-36,\n",
       "        0.00000000e+00, 1.60914609e-31, 0.00000000e+00],\n",
       "       [1.99281662e-14, 1.69915111e-22, 1.00000000e+00, 1.92325076e-18,\n",
       "        5.39271073e-28, 9.95012928e-28, 2.11503089e-37],\n",
       "       [8.41548578e-15, 4.05167127e-27, 1.00000000e+00, 8.48055311e-22,\n",
       "        1.55549425e-34, 5.51367793e-33, 0.00000000e+00],\n",
       "       [1.00000000e+00, 8.17203260e-26, 1.59745173e-09, 4.46247649e-24,\n",
       "        9.88717138e-35, 1.35520200e-24, 0.00000000e+00],\n",
       "       [1.95908437e-16, 1.20298880e-33, 1.00000000e+00, 3.51709282e-27,\n",
       "        0.00000000e+00, 0.00000000e+00, 0.00000000e+00],\n",
       "       [1.00000000e+00, 1.38089732e-25, 5.35345840e-21, 8.51801590e-26,\n",
       "        3.06653030e-33, 5.63461216e-21, 1.32521238e-33],\n",
       "       [1.00000000e+00, 3.80371384e-33, 1.95682911e-23, 8.56807473e-33,\n",
       "        0.00000000e+00, 2.58738168e-28, 0.00000000e+00],\n",
       "       [8.73001072e-16, 1.54687041e-22, 1.00000000e+00, 8.38669407e-18,\n",
       "        1.79650591e-27, 2.64621498e-28, 1.34550369e-37],\n",
       "       [1.00000000e+00, 1.58906851e-34, 2.14572909e-26, 1.35669508e-34,\n",
       "        0.00000000e+00, 9.77790420e-29, 0.00000000e+00],\n",
       "       [8.05746257e-01, 1.65660374e-16, 1.94253743e-01, 2.68970691e-13,\n",
       "        1.30507405e-23, 3.01548279e-18, 5.88760034e-29],\n",
       "       [3.65429622e-20, 3.82231549e-34, 1.00000000e+00, 2.78700696e-28,\n",
       "        0.00000000e+00, 0.00000000e+00, 0.00000000e+00],\n",
       "       [1.00000000e+00, 4.79951710e-31, 7.82618933e-23, 7.10221509e-31,\n",
       "        0.00000000e+00, 2.73678682e-26, 0.00000000e+00],\n",
       "       [3.05796068e-15, 2.74021698e-31, 1.00000000e+00, 1.25790663e-25,\n",
       "        0.00000000e+00, 8.03216320e-38, 0.00000000e+00],\n",
       "       [7.19637786e-18, 1.88411589e-27, 1.00000000e+00, 2.35451529e-22,\n",
       "        4.13524265e-34, 1.73482912e-34, 0.00000000e+00],\n",
       "       [1.00000000e+00, 1.45519313e-35, 4.54714673e-22, 3.54443528e-34,\n",
       "        0.00000000e+00, 2.27397384e-31, 0.00000000e+00],\n",
       "       [1.00000000e+00, 8.33535823e-37, 2.07135405e-23, 9.22756752e-36,\n",
       "        0.00000000e+00, 3.26793189e-32, 0.00000000e+00],\n",
       "       [4.75191141e-17, 8.68427842e-30, 1.00000000e+00, 3.68813772e-24,\n",
       "        4.69155763e-38, 1.24589379e-36, 0.00000000e+00],\n",
       "       [1.00000000e+00, 6.55749638e-35, 1.22983081e-19, 1.78088882e-33,\n",
       "        0.00000000e+00, 8.33776497e-32, 0.00000000e+00],\n",
       "       [1.15715847e-19, 5.71168767e-32, 1.00000000e+00, 1.42729867e-26,\n",
       "        0.00000000e+00, 0.00000000e+00, 0.00000000e+00],\n",
       "       [1.00000000e+00, 1.39337815e-20, 1.50738824e-13, 6.11468388e-20,\n",
       "        3.96694422e-27, 5.66827376e-18, 1.43650661e-28],\n",
       "       [2.00321992e-05, 3.88763749e-24, 9.99979973e-01, 8.22336630e-20,\n",
       "        2.49005593e-33, 1.83516773e-28, 0.00000000e+00],\n",
       "       [1.00000000e+00, 6.30897748e-35, 2.70945449e-20, 3.59742766e-32,\n",
       "        0.00000000e+00, 1.31589863e-32, 0.00000000e+00],\n",
       "       [2.00275070e-25, 0.00000000e+00, 1.00000000e+00, 5.61693739e-33,\n",
       "        0.00000000e+00, 0.00000000e+00, 0.00000000e+00],\n",
       "       [1.00000000e+00, 0.00000000e+00, 2.72810911e-30, 0.00000000e+00,\n",
       "        0.00000000e+00, 1.08105188e-37, 0.00000000e+00],\n",
       "       [1.00512924e-10, 2.77339639e-23, 1.00000000e+00, 4.94631155e-19,\n",
       "        1.96206201e-30, 2.64122273e-28, 0.00000000e+00],\n",
       "       [1.00000000e+00, 3.10061810e-26, 3.48958601e-14, 1.21631150e-24,\n",
       "        4.70789735e-35, 9.11166847e-24, 4.14942412e-38],\n",
       "       [3.93267428e-08, 1.93038938e-24, 1.00000000e+00, 4.54921581e-20,\n",
       "        3.99091389e-33, 6.51169974e-29, 0.00000000e+00],\n",
       "       [5.25602476e-21, 2.04144752e-34, 1.00000000e+00, 3.18300578e-29,\n",
       "        0.00000000e+00, 0.00000000e+00, 0.00000000e+00],\n",
       "       [1.00000000e+00, 1.26722001e-27, 3.59545460e-08, 4.42886184e-25,\n",
       "        2.09471655e-37, 3.83212566e-27, 0.00000000e+00],\n",
       "       [9.83668789e-12, 1.79050900e-31, 1.00000000e+00, 3.96788469e-26,\n",
       "        0.00000000e+00, 1.85979895e-37, 0.00000000e+00],\n",
       "       [1.00000000e+00, 2.18641107e-29, 1.07882065e-19, 6.73749818e-29,\n",
       "        0.00000000e+00, 1.62992135e-25, 0.00000000e+00],\n",
       "       [1.37329316e-14, 2.42724500e-30, 1.00000000e+00, 1.51725562e-25,\n",
       "        0.00000000e+00, 1.02898104e-36, 0.00000000e+00],\n",
       "       [4.57947717e-35, 0.00000000e+00, 1.00000000e+00, 0.00000000e+00,\n",
       "        0.00000000e+00, 0.00000000e+00, 0.00000000e+00],\n",
       "       [1.00000000e+00, 2.68792241e-32, 1.91330414e-20, 5.27180111e-31,\n",
       "        0.00000000e+00, 2.38752094e-28, 0.00000000e+00],\n",
       "       [1.55808863e-35, 0.00000000e+00, 1.00000000e+00, 4.29011852e-37,\n",
       "        0.00000000e+00, 0.00000000e+00, 0.00000000e+00],\n",
       "       [1.00000000e+00, 6.89187107e-32, 4.49619414e-22, 2.12904173e-31,\n",
       "        0.00000000e+00, 1.85132847e-27, 0.00000000e+00],\n",
       "       [1.00000000e+00, 4.96599434e-26, 2.63487676e-10, 3.82703325e-24,\n",
       "        3.37942659e-35, 6.74558707e-25, 0.00000000e+00],\n",
       "       [1.00000000e+00, 9.91296094e-36, 2.57661878e-26, 2.23291480e-35,\n",
       "        0.00000000e+00, 2.88071009e-30, 0.00000000e+00],\n",
       "       [9.99999881e-01, 1.14170610e-20, 1.23033089e-07, 7.79043147e-19,\n",
       "        1.15946895e-27, 8.19309472e-20, 1.15120734e-31],\n",
       "       [1.10633457e-28, 0.00000000e+00, 1.00000000e+00, 3.46359663e-34,\n",
       "        0.00000000e+00, 0.00000000e+00, 0.00000000e+00],\n",
       "       [1.00000000e+00, 2.10037465e-36, 1.35674200e-26, 1.71136182e-36,\n",
       "        0.00000000e+00, 6.11679629e-31, 0.00000000e+00],\n",
       "       [4.90284673e-17, 2.11335605e-27, 1.00000000e+00, 2.83907884e-23,\n",
       "        9.68543749e-35, 1.86353014e-34, 0.00000000e+00],\n",
       "       [1.00000000e+00, 1.14579243e-31, 9.17932383e-22, 5.00027414e-31,\n",
       "        0.00000000e+00, 2.91405989e-27, 0.00000000e+00],\n",
       "       [1.00000000e+00, 7.72338506e-33, 5.17587771e-22, 5.63529053e-32,\n",
       "        0.00000000e+00, 2.50339885e-28, 0.00000000e+00],\n",
       "       [1.00000000e+00, 1.96362952e-20, 2.63819864e-08, 7.92365615e-19,\n",
       "        5.28086909e-27, 3.36130012e-19, 9.94886133e-31],\n",
       "       [1.00000000e+00, 3.57266332e-23, 1.07269827e-11, 2.18944974e-21,\n",
       "        5.30812436e-31, 1.99396531e-21, 7.32689807e-34],\n",
       "       [1.00000000e+00, 6.26312254e-37, 6.25360190e-28, 4.38358715e-37,\n",
       "        0.00000000e+00, 5.69939376e-31, 0.00000000e+00],\n",
       "       [1.00000000e+00, 1.39506097e-32, 1.11942549e-23, 2.13902914e-32,\n",
       "        0.00000000e+00, 1.08250995e-27, 0.00000000e+00],\n",
       "       [1.00000000e+00, 0.00000000e+00, 1.48426439e-32, 0.00000000e+00,\n",
       "        0.00000000e+00, 1.18326731e-34, 0.00000000e+00],\n",
       "       [2.98283552e-19, 2.94987604e-32, 1.00000000e+00, 2.40910397e-27,\n",
       "        0.00000000e+00, 0.00000000e+00, 0.00000000e+00],\n",
       "       [1.00000000e+00, 6.43442686e-32, 8.29126969e-24, 4.99628651e-32,\n",
       "        0.00000000e+00, 6.05461568e-27, 0.00000000e+00],\n",
       "       [1.07690463e-19, 2.82934614e-32, 1.00000000e+00, 2.75165045e-27,\n",
       "        0.00000000e+00, 0.00000000e+00, 0.00000000e+00],\n",
       "       [2.69756075e-37, 0.00000000e+00, 1.00000000e+00, 0.00000000e+00,\n",
       "        0.00000000e+00, 0.00000000e+00, 0.00000000e+00],\n",
       "       [1.00000000e+00, 5.15132518e-33, 6.17458975e-22, 3.41008413e-32,\n",
       "        0.00000000e+00, 1.05236676e-28, 0.00000000e+00],\n",
       "       [1.00000000e+00, 7.40371074e-27, 1.08963958e-13, 4.10442702e-25,\n",
       "        9.54958007e-36, 1.72107460e-24, 0.00000000e+00],\n",
       "       [1.00000000e+00, 7.73511051e-28, 2.35649337e-21, 9.70503736e-28,\n",
       "        2.53303302e-36, 3.28063711e-23, 3.54033528e-37],\n",
       "       [2.86639897e-06, 6.42284872e-20, 9.99997139e-01, 1.69615290e-16,\n",
       "        9.61051676e-27, 2.38063564e-23, 1.36540338e-34]], dtype=float32)"
      ]
     },
     "execution_count": 29,
     "metadata": {},
     "output_type": "execute_result"
    }
   ],
   "source": [
    "predictions"
   ]
  },
  {
   "cell_type": "code",
   "execution_count": 30,
   "metadata": {},
   "outputs": [
    {
     "name": "stdout",
     "output_type": "stream",
     "text": [
      "[[1. 0. 0. 0. 0. 0. 0.]]\n"
     ]
    }
   ],
   "source": [
    "import pandas as pd\n",
    "import numpy as np\n",
    "\n",
    "from keras.preprocessing import image\n",
    "test_image = image.load_img('/Users/admin/Downloads/nigeria-dishes/Yoruba/0_0_0001.jpeg',target_size=(170,140))\n",
    "test_image = image.img_to_array(test_image)\n",
    "test_image = np.expand_dims(test_image,axis=0)\n",
    "result = mode.predict(test_image)\n",
    "\n",
    "print(result)"
   ]
  },
  {
   "cell_type": "code",
   "execution_count": 31,
   "metadata": {},
   "outputs": [
    {
     "data": {
      "text/plain": [
       "{'amala': 0, 'eba': 1, 'efo': 2, 'ewedu': 3, 'fufu': 4, 'iyan': 5}"
      ]
     },
     "execution_count": 31,
     "metadata": {},
     "output_type": "execute_result"
    }
   ],
   "source": [
    "training_set.class_indices"
   ]
  },
  {
   "cell_type": "code",
   "execution_count": 53,
   "metadata": {},
   "outputs": [],
   "source": [
    "def which_food(result):\n",
    "    if result[0][0] > 0:\n",
    "        print ('amala')\n",
    "    if result[0][1] > 0:\n",
    "        print ('eba')\n",
    "    if result[0][2] > 0:\n",
    "        print ('efo')\n",
    "    if result[0][3] > 0:\n",
    "        print ('ewedu')\n",
    "    if result[0][4] > 0:\n",
    "        print ('fufu')\n",
    "    if result[0][5] > 0:\n",
    "        print ('iyan')"
   ]
  },
  {
   "cell_type": "code",
   "execution_count": 54,
   "metadata": {},
   "outputs": [
    {
     "name": "stdout",
     "output_type": "stream",
     "text": [
      "amala\n",
      "None\n"
     ]
    }
   ],
   "source": [
    "print(which_food(result))"
   ]
  },
  {
   "cell_type": "code",
   "execution_count": null,
   "metadata": {},
   "outputs": [],
   "source": []
  }
 ],
 "metadata": {
  "kernelspec": {
   "display_name": "Python 3",
   "language": "python",
   "name": "python3"
  },
  "language_info": {
   "codemirror_mode": {
    "name": "ipython",
    "version": 3
   },
   "file_extension": ".py",
   "mimetype": "text/x-python",
   "name": "python",
   "nbconvert_exporter": "python",
   "pygments_lexer": "ipython3",
   "version": "3.7.3"
  }
 },
 "nbformat": 4,
 "nbformat_minor": 2
}
