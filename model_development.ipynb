{
 "cells": [
  {
   "cell_type": "code",
   "execution_count": 34,
   "metadata": {},
   "outputs": [],
   "source": [
    "#import libraries\n",
    "import pandas as pd\n",
    "import numpy as np\n",
    "import matplotlib.pyplot as plt\n",
    "from PIL import Image\n",
    "import matplotlib.image as mpimg\n",
    "from sklearn.preprocessing import LabelEncoder\n",
    "import tensorflow as tf\n",
    "from keras.models import Sequential\n",
    "from keras.layers import Flatten,Dense,Conv2D,MaxPool2D\n",
    "\n",
    "import os"
   ]
  },
  {
   "cell_type": "markdown",
   "metadata": {},
   "source": [
    "#### Data import and Preparation"
   ]
  },
  {
   "cell_type": "code",
   "execution_count": 22,
   "metadata": {},
   "outputs": [
    {
     "data": {
      "text/html": [
       "<div>\n",
       "<style scoped>\n",
       "    .dataframe tbody tr th:only-of-type {\n",
       "        vertical-align: middle;\n",
       "    }\n",
       "\n",
       "    .dataframe tbody tr th {\n",
       "        vertical-align: top;\n",
       "    }\n",
       "\n",
       "    .dataframe thead th {\n",
       "        text-align: right;\n",
       "    }\n",
       "</style>\n",
       "<table border=\"1\" class=\"dataframe\">\n",
       "  <thead>\n",
       "    <tr style=\"text-align: right;\">\n",
       "      <th></th>\n",
       "      <th>dishes_zones</th>\n",
       "      <th>name_of_dish</th>\n",
       "      <th>file</th>\n",
       "    </tr>\n",
       "  </thead>\n",
       "  <tbody>\n",
       "    <tr>\n",
       "      <th>0</th>\n",
       "      <td>Yoruba</td>\n",
       "      <td>amala</td>\n",
       "      <td>0_0_0008.jpeg</td>\n",
       "    </tr>\n",
       "    <tr>\n",
       "      <th>1</th>\n",
       "      <td>Yoruba</td>\n",
       "      <td>amala</td>\n",
       "      <td>0_0_0009.jpeg</td>\n",
       "    </tr>\n",
       "    <tr>\n",
       "      <th>2</th>\n",
       "      <td>Yoruba</td>\n",
       "      <td>amala</td>\n",
       "      <td>0_0_0010.jpeg</td>\n",
       "    </tr>\n",
       "    <tr>\n",
       "      <th>3</th>\n",
       "      <td>Yoruba</td>\n",
       "      <td>amala</td>\n",
       "      <td>0_0_0011.jpeg</td>\n",
       "    </tr>\n",
       "    <tr>\n",
       "      <th>4</th>\n",
       "      <td>Yoruba</td>\n",
       "      <td>amala</td>\n",
       "      <td>0_0_0012.jpeg</td>\n",
       "    </tr>\n",
       "  </tbody>\n",
       "</table>\n",
       "</div>"
      ],
      "text/plain": [
       "  dishes_zones name_of_dish           file\n",
       "0       Yoruba        amala  0_0_0008.jpeg\n",
       "1       Yoruba        amala  0_0_0009.jpeg\n",
       "2       Yoruba        amala  0_0_0010.jpeg\n",
       "3       Yoruba        amala  0_0_0011.jpeg\n",
       "4       Yoruba        amala  0_0_0012.jpeg"
      ]
     },
     "execution_count": 22,
     "metadata": {},
     "output_type": "execute_result"
    }
   ],
   "source": [
    "train = pd.read_csv('./data/new_train.csv',index_col=0)\n",
    "test = pd.read_csv('./data/new_test.csv',index_col=0)\n",
    "train.head()"
   ]
  },
  {
   "cell_type": "code",
   "execution_count": 23,
   "metadata": {},
   "outputs": [
    {
     "name": "stdout",
     "output_type": "stream",
     "text": [
      "Train shape is (296, 3)\n",
      "Test shape is (42, 3)\n"
     ]
    }
   ],
   "source": [
    "print('Train shape is {}'.format(train.shape))\n",
    "print('Test shape is {}'.format(test.shape))"
   ]
  },
  {
   "cell_type": "code",
   "execution_count": 24,
   "metadata": {},
   "outputs": [],
   "source": [
    "#transform data from image into dataframe\n",
    "\n",
    "# np.ravel is equivalent to reshape(-1, order=order).\n",
    "\n",
    "def change_image_format(data_row):\n",
    "    number = data_row.shape[0]\n",
    "    image = []  \n",
    "    for i in range(number):\n",
    "        img_address = './data/Yoruba/' + str(data_row.iloc[i])  \n",
    "        img = np.ravel(mpimg.imread(img_address))   # Read an image from a file into an array.     \n",
    "        image.append(img)\n",
    "        \n",
    "    df = pd.DataFrame(image)\n",
    "    return df"
   ]
  },
  {
   "cell_type": "code",
   "execution_count": 26,
   "metadata": {},
   "outputs": [
    {
     "data": {
      "text/html": [
       "<div>\n",
       "<style scoped>\n",
       "    .dataframe tbody tr th:only-of-type {\n",
       "        vertical-align: middle;\n",
       "    }\n",
       "\n",
       "    .dataframe tbody tr th {\n",
       "        vertical-align: top;\n",
       "    }\n",
       "\n",
       "    .dataframe thead th {\n",
       "        text-align: right;\n",
       "    }\n",
       "</style>\n",
       "<table border=\"1\" class=\"dataframe\">\n",
       "  <thead>\n",
       "    <tr style=\"text-align: right;\">\n",
       "      <th></th>\n",
       "      <th>0</th>\n",
       "      <th>1</th>\n",
       "      <th>2</th>\n",
       "      <th>3</th>\n",
       "      <th>4</th>\n",
       "      <th>5</th>\n",
       "      <th>6</th>\n",
       "      <th>7</th>\n",
       "      <th>8</th>\n",
       "      <th>9</th>\n",
       "      <th>...</th>\n",
       "      <th>71390</th>\n",
       "      <th>71391</th>\n",
       "      <th>71392</th>\n",
       "      <th>71393</th>\n",
       "      <th>71394</th>\n",
       "      <th>71395</th>\n",
       "      <th>71396</th>\n",
       "      <th>71397</th>\n",
       "      <th>71398</th>\n",
       "      <th>71399</th>\n",
       "    </tr>\n",
       "  </thead>\n",
       "  <tbody>\n",
       "    <tr>\n",
       "      <th>0</th>\n",
       "      <td>201</td>\n",
       "      <td>192</td>\n",
       "      <td>175</td>\n",
       "      <td>203</td>\n",
       "      <td>194</td>\n",
       "      <td>177</td>\n",
       "      <td>196</td>\n",
       "      <td>187</td>\n",
       "      <td>172</td>\n",
       "      <td>207</td>\n",
       "      <td>...</td>\n",
       "      <td>113</td>\n",
       "      <td>147</td>\n",
       "      <td>128</td>\n",
       "      <td>113</td>\n",
       "      <td>147</td>\n",
       "      <td>128</td>\n",
       "      <td>113</td>\n",
       "      <td>147</td>\n",
       "      <td>128</td>\n",
       "      <td>113</td>\n",
       "    </tr>\n",
       "    <tr>\n",
       "      <th>1</th>\n",
       "      <td>177</td>\n",
       "      <td>179</td>\n",
       "      <td>174</td>\n",
       "      <td>177</td>\n",
       "      <td>179</td>\n",
       "      <td>174</td>\n",
       "      <td>178</td>\n",
       "      <td>180</td>\n",
       "      <td>175</td>\n",
       "      <td>179</td>\n",
       "      <td>...</td>\n",
       "      <td>227</td>\n",
       "      <td>225</td>\n",
       "      <td>236</td>\n",
       "      <td>232</td>\n",
       "      <td>216</td>\n",
       "      <td>227</td>\n",
       "      <td>223</td>\n",
       "      <td>212</td>\n",
       "      <td>223</td>\n",
       "      <td>219</td>\n",
       "    </tr>\n",
       "    <tr>\n",
       "      <th>2</th>\n",
       "      <td>245</td>\n",
       "      <td>247</td>\n",
       "      <td>244</td>\n",
       "      <td>245</td>\n",
       "      <td>247</td>\n",
       "      <td>244</td>\n",
       "      <td>245</td>\n",
       "      <td>247</td>\n",
       "      <td>246</td>\n",
       "      <td>246</td>\n",
       "      <td>...</td>\n",
       "      <td>253</td>\n",
       "      <td>248</td>\n",
       "      <td>252</td>\n",
       "      <td>253</td>\n",
       "      <td>248</td>\n",
       "      <td>252</td>\n",
       "      <td>253</td>\n",
       "      <td>248</td>\n",
       "      <td>252</td>\n",
       "      <td>253</td>\n",
       "    </tr>\n",
       "    <tr>\n",
       "      <th>3</th>\n",
       "      <td>193</td>\n",
       "      <td>189</td>\n",
       "      <td>180</td>\n",
       "      <td>190</td>\n",
       "      <td>186</td>\n",
       "      <td>177</td>\n",
       "      <td>189</td>\n",
       "      <td>186</td>\n",
       "      <td>177</td>\n",
       "      <td>186</td>\n",
       "      <td>...</td>\n",
       "      <td>210</td>\n",
       "      <td>215</td>\n",
       "      <td>215</td>\n",
       "      <td>213</td>\n",
       "      <td>217</td>\n",
       "      <td>217</td>\n",
       "      <td>215</td>\n",
       "      <td>219</td>\n",
       "      <td>219</td>\n",
       "      <td>217</td>\n",
       "    </tr>\n",
       "    <tr>\n",
       "      <th>4</th>\n",
       "      <td>103</td>\n",
       "      <td>105</td>\n",
       "      <td>84</td>\n",
       "      <td>107</td>\n",
       "      <td>109</td>\n",
       "      <td>87</td>\n",
       "      <td>106</td>\n",
       "      <td>105</td>\n",
       "      <td>84</td>\n",
       "      <td>111</td>\n",
       "      <td>...</td>\n",
       "      <td>141</td>\n",
       "      <td>155</td>\n",
       "      <td>140</td>\n",
       "      <td>133</td>\n",
       "      <td>156</td>\n",
       "      <td>140</td>\n",
       "      <td>127</td>\n",
       "      <td>154</td>\n",
       "      <td>138</td>\n",
       "      <td>122</td>\n",
       "    </tr>\n",
       "  </tbody>\n",
       "</table>\n",
       "<p>5 rows × 71400 columns</p>\n",
       "</div>"
      ],
      "text/plain": [
       "   0      1      2      3      4      5      6      7      8      9      ...  \\\n",
       "0    201    192    175    203    194    177    196    187    172    207  ...   \n",
       "1    177    179    174    177    179    174    178    180    175    179  ...   \n",
       "2    245    247    244    245    247    244    245    247    246    246  ...   \n",
       "3    193    189    180    190    186    177    189    186    177    186  ...   \n",
       "4    103    105     84    107    109     87    106    105     84    111  ...   \n",
       "\n",
       "   71390  71391  71392  71393  71394  71395  71396  71397  71398  71399  \n",
       "0    113    147    128    113    147    128    113    147    128    113  \n",
       "1    227    225    236    232    216    227    223    212    223    219  \n",
       "2    253    248    252    253    248    252    253    248    252    253  \n",
       "3    210    215    215    213    217    217    215    219    219    217  \n",
       "4    141    155    140    133    156    140    127    154    138    122  \n",
       "\n",
       "[5 rows x 71400 columns]"
      ]
     },
     "execution_count": 26,
     "metadata": {},
     "output_type": "execute_result"
    }
   ],
   "source": [
    "#Get the Dataframe for the Train and Test file     \n",
    "x_train = change_image_format(train['file'])\n",
    "x_test = change_image_format(test['file'])\n",
    "\n",
    "x_train.head()"
   ]
  },
  {
   "cell_type": "code",
   "execution_count": 31,
   "metadata": {},
   "outputs": [],
   "source": [
    "le = LabelEncoder()  #instantiate the label encoder\n",
    " \n",
    "y_train = le.fit_transform(train['name_of_dish'])\n",
    "\n",
    "y_test = le.transform(test['name_of_dish'])"
   ]
  },
  {
   "cell_type": "code",
   "execution_count": 32,
   "metadata": {},
   "outputs": [
    {
     "data": {
      "text/plain": [
       "array([0, 0, 0, 0, 0])"
      ]
     },
     "execution_count": 32,
     "metadata": {},
     "output_type": "execute_result"
    }
   ],
   "source": [
    "y_train[:5]"
   ]
  },
  {
   "cell_type": "markdown",
   "metadata": {},
   "source": [
    "#### Model Development"
   ]
  },
  {
   "cell_type": "code",
   "execution_count": 118,
   "metadata": {},
   "outputs": [
    {
     "data": {
      "text/plain": [
       "<keras.callbacks.callbacks.History at 0x7ffcdcc89160>"
      ]
     },
     "execution_count": 118,
     "metadata": {},
     "output_type": "execute_result"
    }
   ],
   "source": [
    "input_shape = (x_train.shape[1],)\n",
    "model = Sequential()\n",
    "\n",
    "model.add(Dense(12, input_shape=input_shape))  #first (input) Layer\n",
    "model.add(Dense(24,activation='relu')) #first hidden layer\n",
    "model.add(Dense(48,activation='relu')) #second hidden layer\n",
    "model.add(Dense(96,activation='relu')) #fourth hidden layer\n",
    "\n",
    "model.add(Dense(6,activation='softmax'))   #output 6 categories for each meal category\n",
    "model.compile(optimizer='adam', loss='sparse_categorical_crossentropy', metrics=['accuracy'])\n",
    "\n",
    "model.fit(x_train,y_train,epochs=43,verbose=False) #43 epochs fitted well."
   ]
  },
  {
   "cell_type": "code",
   "execution_count": 117,
   "metadata": {},
   "outputs": [
    {
     "name": "stdout",
     "output_type": "stream",
     "text": [
      "\n",
      "Test accuracy: 0.523809552192688\n"
     ]
    }
   ],
   "source": [
    "test_loss, test_acc = model.evaluate(x_test, y_test, verbose=2)\n",
    "\n",
    "print('\\nTest accuracy:', test_acc)"
   ]
  },
  {
   "cell_type": "code",
   "execution_count": 139,
   "metadata": {},
   "outputs": [],
   "source": [
    "# save the model to disk\n",
    "import pickle\n",
    "\n",
    "filename = './models/nn_model.pkl'\n",
    "pickle.dump(model, open(filename, 'wb'))"
   ]
  },
  {
   "cell_type": "markdown",
   "metadata": {},
   "source": [
    "#### Result presentation and test"
   ]
  },
  {
   "cell_type": "code",
   "execution_count": 78,
   "metadata": {},
   "outputs": [
    {
     "data": {
      "text/html": [
       "<div>\n",
       "<style scoped>\n",
       "    .dataframe tbody tr th:only-of-type {\n",
       "        vertical-align: middle;\n",
       "    }\n",
       "\n",
       "    .dataframe tbody tr th {\n",
       "        vertical-align: top;\n",
       "    }\n",
       "\n",
       "    .dataframe thead th {\n",
       "        text-align: right;\n",
       "    }\n",
       "</style>\n",
       "<table border=\"1\" class=\"dataframe\">\n",
       "  <thead>\n",
       "    <tr style=\"text-align: right;\">\n",
       "      <th></th>\n",
       "      <th>0</th>\n",
       "      <th>1</th>\n",
       "      <th>2</th>\n",
       "      <th>3</th>\n",
       "      <th>4</th>\n",
       "      <th>5</th>\n",
       "      <th>6</th>\n",
       "      <th>7</th>\n",
       "      <th>8</th>\n",
       "      <th>9</th>\n",
       "      <th>...</th>\n",
       "      <th>71390</th>\n",
       "      <th>71391</th>\n",
       "      <th>71392</th>\n",
       "      <th>71393</th>\n",
       "      <th>71394</th>\n",
       "      <th>71395</th>\n",
       "      <th>71396</th>\n",
       "      <th>71397</th>\n",
       "      <th>71398</th>\n",
       "      <th>71399</th>\n",
       "    </tr>\n",
       "  </thead>\n",
       "  <tbody>\n",
       "    <tr>\n",
       "      <th>0</th>\n",
       "      <td>178</td>\n",
       "      <td>179</td>\n",
       "      <td>163</td>\n",
       "      <td>178</td>\n",
       "      <td>180</td>\n",
       "      <td>166</td>\n",
       "      <td>183</td>\n",
       "      <td>189</td>\n",
       "      <td>175</td>\n",
       "      <td>186</td>\n",
       "      <td>...</td>\n",
       "      <td>255</td>\n",
       "      <td>187</td>\n",
       "      <td>223</td>\n",
       "      <td>255</td>\n",
       "      <td>190</td>\n",
       "      <td>227</td>\n",
       "      <td>255</td>\n",
       "      <td>190</td>\n",
       "      <td>227</td>\n",
       "      <td>254</td>\n",
       "    </tr>\n",
       "  </tbody>\n",
       "</table>\n",
       "<p>1 rows × 71400 columns</p>\n",
       "</div>"
      ],
      "text/plain": [
       "   0      1      2      3      4      5      6      7      8      9      ...  \\\n",
       "0    178    179    163    178    180    166    183    189    175    186  ...   \n",
       "\n",
       "   71390  71391  71392  71393  71394  71395  71396  71397  71398  71399  \n",
       "0    255    187    223    255    190    227    255    190    227    254  \n",
       "\n",
       "[1 rows x 71400 columns]"
      ]
     },
     "execution_count": 78,
     "metadata": {},
     "output_type": "execute_result"
    }
   ],
   "source": [
    "image_list = []\n",
    "image_address = './data/Yoruba/0_0_0001.jpeg'\n",
    "image_list.append(np.ravel(mpimg.imread(image_address)))\n",
    "\n",
    "df = pd.DataFrame(image_list)\n",
    "df"
   ]
  },
  {
   "cell_type": "code",
   "execution_count": 103,
   "metadata": {},
   "outputs": [
    {
     "data": {
      "text/plain": [
       "array([[0., 0., 0., 0., 0., 1.]], dtype=float32)"
      ]
     },
     "execution_count": 103,
     "metadata": {},
     "output_type": "execute_result"
    }
   ],
   "source": [
    "model.predict(df)"
   ]
  },
  {
   "cell_type": "code",
   "execution_count": 110,
   "metadata": {},
   "outputs": [],
   "source": [
    "arr = le.inverse_transform([np.argmax(model.predict(df))])"
   ]
  },
  {
   "cell_type": "code",
   "execution_count": 112,
   "metadata": {},
   "outputs": [
    {
     "name": "stdout",
     "output_type": "stream",
     "text": [
      "This is iyan. Enjoy your meal\n"
     ]
    }
   ],
   "source": [
    "for x in arr:\n",
    "    print('This is {}. Enjoy your meal'.format(x))"
   ]
  },
  {
   "cell_type": "code",
   "execution_count": 138,
   "metadata": {},
   "outputs": [
    {
     "data": {
      "text/plain": [
       "array([[0., 0., 1., 0., 0., 0.]], dtype=float32)"
      ]
     },
     "execution_count": 138,
     "metadata": {},
     "output_type": "execute_result"
    }
   ],
   "source": [
    "# load the model from disk\n",
    "filename = './models/nn_model.pkl'\n",
    "loaded_model = pickle.load(open(filename, 'rb'))\n",
    "\n",
    "\n",
    "image_list = []\n",
    "image_address = 'efo.jpeg'\n",
    "\n",
    "img = np.ravel(mpimg.imread(image_address))\n",
    "image_list.append(img)\n",
    "df_1 = pd.DataFrame(image_list)\n",
    "\n",
    "#model prediction\n",
    "loaded_model.predict(df_1)"
   ]
  },
  {
   "cell_type": "code",
   "execution_count": 128,
   "metadata": {},
   "outputs": [
    {
     "data": {
      "text/html": [
       "<div>\n",
       "<style scoped>\n",
       "    .dataframe tbody tr th:only-of-type {\n",
       "        vertical-align: middle;\n",
       "    }\n",
       "\n",
       "    .dataframe tbody tr th {\n",
       "        vertical-align: top;\n",
       "    }\n",
       "\n",
       "    .dataframe thead th {\n",
       "        text-align: right;\n",
       "    }\n",
       "</style>\n",
       "<table border=\"1\" class=\"dataframe\">\n",
       "  <thead>\n",
       "    <tr style=\"text-align: right;\">\n",
       "      <th></th>\n",
       "    </tr>\n",
       "  </thead>\n",
       "  <tbody>\n",
       "  </tbody>\n",
       "</table>\n",
       "</div>"
      ],
      "text/plain": [
       "Empty DataFrame\n",
       "Columns: []\n",
       "Index: []"
      ]
     },
     "execution_count": 128,
     "metadata": {},
     "output_type": "execute_result"
    }
   ],
   "source": [
    "pd.DataFrame(image_list.append(np.ravel(mpimg.imread(image_address))))"
   ]
  },
  {
   "cell_type": "code",
   "execution_count": 135,
   "metadata": {},
   "outputs": [
    {
     "data": {
      "text/plain": [
       "[[array([178, 179, 163, ..., 190, 227, 254], dtype=uint8)]]"
      ]
     },
     "execution_count": 135,
     "metadata": {},
     "output_type": "execute_result"
    }
   ],
   "source": [
    "image_list"
   ]
  },
  {
   "cell_type": "code",
   "execution_count": null,
   "metadata": {},
   "outputs": [],
   "source": []
  }
 ],
 "metadata": {
  "kernelspec": {
   "display_name": "Python [conda env:dsr] *",
   "language": "python",
   "name": "conda-env-dsr-py"
  },
  "language_info": {
   "codemirror_mode": {
    "name": "ipython",
    "version": 3
   },
   "file_extension": ".py",
   "mimetype": "text/x-python",
   "name": "python",
   "nbconvert_exporter": "python",
   "pygments_lexer": "ipython3",
   "version": "3.6.9"
  }
 },
 "nbformat": 4,
 "nbformat_minor": 4
}
